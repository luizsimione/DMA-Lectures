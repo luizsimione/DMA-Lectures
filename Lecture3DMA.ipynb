{
 "cells": [
  {
   "cell_type": "code",
   "execution_count": 4,
   "metadata": {},
   "outputs": [
    {
     "ename": "NameError",
     "evalue": "name 'add_timing' is not defined",
     "output_type": "error",
     "traceback": [
      "\u001b[0;31m---------------------------------------------------------------------------\u001b[0m",
      "\u001b[0;31mNameError\u001b[0m                                 Traceback (most recent call last)",
      "Cell \u001b[0;32mIn[4], line 1\u001b[0m\n\u001b[0;32m----> 1\u001b[0m \u001b[38;5;129m@add_timing\u001b[39m\n\u001b[1;32m      2\u001b[0m \u001b[38;5;28;01mdef\u001b[39;00m \u001b[38;5;21mrange_squares\u001b[39m(n):\n\u001b[1;32m      3\u001b[0m     \u001b[38;5;66;03m#return \u001b[39;00m\n\u001b[1;32m      4\u001b[0m     ret \u001b[38;5;241m=\u001b[39m []\n\u001b[1;32m      5\u001b[0m     \u001b[38;5;28;01mfor\u001b[39;00m i \u001b[38;5;129;01min\u001b[39;00m \u001b[38;5;28mrange\u001b[39m(n):\n",
      "\u001b[0;31mNameError\u001b[0m: name 'add_timing' is not defined"
     ]
    }
   ],
   "source": [
    "@add_timing\n",
    "def range_squares(n):\n",
    "    #return \n",
    "    ret = []\n",
    "    for i in range(n):\n",
    "        ret.append(i*i)\n",
    "    return ret\n",
    "\n",
    "from timeit import default_timer as timer\n",
    "\n",
    "timer()\n",
    "\n",
    "def add_timing(old_fn):\n",
    "    @wraps(old_fn)\n",
    "    def new_fn(*args):\n",
    "        #args is a tuple\n",
    "\n",
    "        # new function does the thing that old function does\n",
    "\n",
    "        # call old function and expand tupke into seprate args\n",
    "        old_fn(*args)\n",
    "\n",
    "        start = timer()\n",
    "        ret = old_fn(*args)\n",
    "        end = timer()\n",
    "        print(f'{start=}, end - start: {end-start}')\n",
    "        return ret\n",
    "\n",
    "#create a decorator that takes in a fucntion and it will repeatt that function x numbers of times\n",
    "#decorator must have an extra argument that will specify the times\n",
    "\n",
    "@repeat(10)\n",
    "def f():\n",
    "    pass\n",
    "\n",
    "#to impleemnt, create function that returns your actual decorator\n",
    "#likely 3 functions to define\n",
    "\n",
    "def repeat(times):\n",
    "    def decorator(old_fn):\n",
    "        def new_fn(*args):\n",
    "          def old_fn(*args):\n",
    "            for _ in range():\n",
    "                old_fn(*args)\n",
    "            return new_fn\n",
    "        return decorator\n",
    "    \n",
    "@repeat(3)\n",
    "def hi():\n",
    "    print('hi')"
   ]
  },
  {
   "cell_type": "code",
   "execution_count": null,
   "metadata": {},
   "outputs": [],
   "source": [
    "@add_timing\n",
    "def repeat_word(s: str, n: int) -> str:\n",
    "    #repeat string s, n number of times\n",
    "    return s * n"
   ]
  },
  {
   "cell_type": "code",
   "execution_count": 5,
   "metadata": {},
   "outputs": [],
   "source": [
    "class Foo:\n",
    "    pass"
   ]
  },
  {
   "cell_type": "code",
   "execution_count": 6,
   "metadata": {},
   "outputs": [],
   "source": [
    "f = Foo()\n",
    "type(f)\n",
    "f.bar = 'baz'"
   ]
  },
  {
   "cell_type": "code",
   "execution_count": 11,
   "metadata": {},
   "outputs": [
    {
     "name": "stdout",
     "output_type": "stream",
     "text": [
      "Alice Says hi to Bob\n",
      "v, joe\n"
     ]
    }
   ],
   "source": [
    "class Person():\n",
    "\n",
    "    # u can think of self\n",
    "    # as newly created instance\n",
    "    # different from something like java\n",
    "    # where \"this: is implicitly created and available\n",
    "    # define the isntance as first argument to init\n",
    "    # convention is to call self (rather than 'this)\n",
    "\n",
    "    def __init__(self, first, last):\n",
    "        self.first = first\n",
    "        self.last = last\n",
    "\n",
    "    # will be called with one argument when we define it well need 2 params   \n",
    "    def greet(self, otherPerson):\n",
    "        print(self.first, 'Says hi to', otherPerson.first)\n",
    "    \n",
    "\n",
    "    def __str__(self):\n",
    "        return f'{self.last}, {self.first}'\n",
    "    \n",
    "    def __repr__(self):\n",
    "        return self.__str__()\n",
    "    \n",
    "p = Person('joe', 'v')\n",
    "\n",
    "p1 = Person('Alice', 'A')\n",
    "p2 = Person('Bob', 'B')\n",
    "\n",
    "p1.greet(p2)\n",
    "\n",
    "print(p)\n",
    "\n"
   ]
  },
  {
   "cell_type": "code",
   "execution_count": null,
   "metadata": {},
   "outputs": [],
   "source": [
    "class Fraction:\n",
    "    def __init__(self, num, den):\n",
    "        self.num = num\n",
    "        self.den = den\n",
    "\n",
    "    # maybe want gcf to be a general func to call that doesnt require instance\n",
    "    def gcf(a,b):\n",
    "        smaller - min(a,b)\n",
    "        for i in range(1, smaller+1):\n",
    "            if a % 2 ==  0 and b % 2 == 0:\n",
    "                ret = i\n",
    "            return ret\n",
    "        \n",
    "    def reduce(self):\n",
    "        n = Fraction.gcf()(self.num, self,den)\n",
    "        return Fraction(int(self.num / n, self.den / n))\n",
    "\n",
    "    def __str__(self):\n",
    "        return f'{self.num}/{self.den}'\n",
    "    \n",
    "    def __repr__(self):\n",
    "        return self.__str__()\n",
    "    \n"
   ]
  },
  {
   "cell_type": "code",
   "execution_count": null,
   "metadata": {},
   "outputs": [],
   "source": [
    "from dataclasses import dataclass\n",
    "\n",
    "@dataclass\n",
    "class Person:\n",
    "    first: str\n",
    "    last: str\n"
   ]
  },
  {
   "cell_type": "code",
   "execution_count": null,
   "metadata": {},
   "outputs": [],
   "source": [
    "p = Person('joe', 'Versoza')"
   ]
  },
  {
   "cell_type": "code",
   "execution_count": null,
   "metadata": {},
   "outputs": [],
   "source": [
    "class Foo:\n",
    "    # when you define variable in first block within class it ends up being a static variable\n",
    "    count = 0\n",
    "\n",
    "    # static method can be called on class itself or an instance when you define, no self because it is not gurateed to be called on instance\n",
    "    @staticmethod\n",
    "    def inc():\n",
    "        Foo.count += 1\n"
   ]
  },
  {
   "cell_type": "code",
   "execution_count": 12,
   "metadata": {},
   "outputs": [
    {
     "data": {
      "text/plain": [
       "[2, 4, 6, 8]"
      ]
     },
     "execution_count": 12,
     "metadata": {},
     "output_type": "execute_result"
    }
   ],
   "source": [
    "# map transform every eleement in a list basef on some expression or function that will give new value in created lsit\n",
    "\n",
    "#filter creates a new lsit with only elements of old lsit that pass a test\n",
    "\n",
    "#map and filter exists as functions in python you dont have tto use them cuz smth about list comprehensions\n",
    "\n",
    "list(map(lambda x: x * 2, [1,2,3,4]))"
   ]
  },
  {
   "cell_type": "code",
   "execution_count": null,
   "metadata": {},
   "outputs": [],
   "source": [
    "# lsit comprehension\n",
    "#[expression looping mechanism conditional (optional)]"
   ]
  },
  {
   "cell_type": "code",
   "execution_count": 14,
   "metadata": {},
   "outputs": [
    {
     "data": {
      "text/plain": [
       "['drake']"
      ]
     },
     "execution_count": 14,
     "metadata": {},
     "output_type": "execute_result"
    }
   ],
   "source": [
    "artists = ['lil yachty', 'lil peep', 'lil baby', 'drake', 'lil uzi vert']\n",
    "\n",
    "[a for a in artists]\n",
    "\n",
    "[a.upper for a in artists]\n",
    "\n",
    "artists2 = [a.upper() for a in artists]\n",
    "\n",
    "[a for a in artists if not a.startswith('lil')]"
   ]
  },
  {
   "cell_type": "code",
   "execution_count": 15,
   "metadata": {},
   "outputs": [
    {
     "data": {
      "text/plain": [
       "{'b': 1, 'a': 3, 'n': 2}"
      ]
     },
     "execution_count": 15,
     "metadata": {},
     "output_type": "execute_result"
    }
   ],
   "source": [
    "s = 'banana'\n",
    "{ch: s.count(ch) for ch in s}"
   ]
  },
  {
   "cell_type": "code",
   "execution_count": null,
   "metadata": {},
   "outputs": [],
   "source": [
    "# implementing these methods allows instances of your class to be iterated over with for loop\n",
    "\n",
    "__next__\n",
    "__iter__"
   ]
  },
  {
   "cell_type": "code",
   "execution_count": 3,
   "metadata": {},
   "outputs": [
    {
     "name": "stdout",
     "output_type": "stream",
     "text": [
      "BATCATRAT\n"
     ]
    }
   ],
   "source": [
    "d = {'bat' :0, 'rat' : 100, 'cat' : 789}\n",
    "puzzle = ''.join([mystery.upper() for mystery in sorted(d)])\n",
    "print(puzzle)"
   ]
  },
  {
   "cell_type": "code",
   "execution_count": null,
   "metadata": {},
   "outputs": [],
   "source": [
    "Assuming a file, foo.txt, with content:\n",
    "\n",
    "bar+baz\n",
    "wat\n",
    "qux+corge\n",
    "wattt?\n",
    "\n",
    "What is the output of this program?\n",
    "data = [line.split('+') for line in open('foo.txt') if '+' in line]\n",
    "print(data[-1][-1])"
   ]
  },
  {
   "cell_type": "code",
   "execution_count": 4,
   "metadata": {},
   "outputs": [
    {
     "name": "stdout",
     "output_type": "stream",
     "text": [
      "[1, 5, 99]\n"
     ]
    }
   ],
   "source": [
    "nums = [1,2,4,5,99,100,104]\n",
    "res = [n for n in nums if n %2 == 1]\n",
    "print(res)"
   ]
  }
 ],
 "metadata": {
  "kernelspec": {
   "display_name": "Python 3",
   "language": "python",
   "name": "python3"
  },
  "language_info": {
   "codemirror_mode": {
    "name": "ipython",
    "version": 3
   },
   "file_extension": ".py",
   "mimetype": "text/x-python",
   "name": "python",
   "nbconvert_exporter": "python",
   "pygments_lexer": "ipython3",
   "version": "3.10.6"
  }
 },
 "nbformat": 4,
 "nbformat_minor": 2
}
