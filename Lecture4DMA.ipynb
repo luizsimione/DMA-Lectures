{
 "cells": [
  {
   "cell_type": "markdown",
   "metadata": {},
   "source": [
    "Generators\n",
    "A generator is a function that can be paused and resumed while still maintaining state between these stops and starts.\n",
    "\n",
    "Pausing and Resuming Functions?\n",
    "Typically, when you call a function, you lose that function's local variables after it reaches the return statement.\n",
    "\n",
    "Generators allow you to return a value\n",
    "suspend execution of the function\n",
    "then resume it later with all of the locals still intact!\n",
    "\n",
    "Creating a Generator\n",
    "\n",
    "*make a function that has the keyword 'yield' in it\n",
    "*yield is like return in that gives the value immediately to the right of it\n",
    "*however instead of stopping the functioin completely and discarding the locals\n",
    "*it temporarily suspends the execution of the function so that it can be continued later\n",
    "\n",
    "Generators and Iterators\n",
    "From the docs:\n",
    "When you call a generator function, it doesn’t return a single value; instead it returns a generator object that supports the iterator protocol.\n",
    "So... a generator object is an iterator; it implements both __iter__ and __next__ (but an iterator is not always necessarily a generator)\n",
    "\n",
    "Generators and Iterators Continued\n",
    "So, when you call a generator function, you immediately get a generator object back, but the function body itself is not yet executed. The generator object returned behaves like an iterator:\n",
    "\n",
    "it has a __next__ method\n",
    "...so that means you can pass the generator object into the next function, similar to iterable objects returning iterators\n",
    "using next controls the function's execution; it starts or resumes the function until yield is encountered\n",
    "at which point a value is returned and execution is temporarily suspended."
   ]
  },
  {
   "cell_type": "code",
   "execution_count": 2,
   "metadata": {},
   "outputs": [
    {
     "name": "stdout",
     "output_type": "stream",
     "text": [
      "print 1\n",
      "print 2\n"
     ]
    },
    {
     "data": {
      "text/plain": [
       "'return 2'"
      ]
     },
     "execution_count": 2,
     "metadata": {},
     "output_type": "execute_result"
    }
   ],
   "source": [
    "#Generator function example\n",
    "\n",
    "def f():\n",
    "    print('print 1')\n",
    "    yield 'return 1'\n",
    "    print('print 2')\n",
    "    yield 'return 2'\n",
    "    print('print 3')\n",
    "    yield 'return 3'\n",
    "\n",
    "# when calling the generator function the body isn't executed\n",
    "gen_obj = f()\n",
    "\n",
    "# calling next starts/resumes function execution until yield is encountered\n",
    "# note that \n",
    "next (gen_obj)\n",
    "next (gen_obj)\n",
    "next (gen_obj)\n",
    "\n",
    "#can be looped over\n",
    "\n",
    "for val in f():\n",
    "    print(val)\n"
   ]
  },
  {
   "cell_type": "markdown",
   "metadata": {},
   "source": [
    "No Class Needed!\n",
    "Hm - this seems really similar to creating a class and implementing __iter__ and __next__. Aaaand, that's true:\n",
    "\n",
    "generators are a simple way of getting an object back that supports the iterator protocol\n",
    "no need to define a whole new class and define two methods on that class\n",
    "just write a function\n",
    "Let's write some code that allow us to loop over the letters in the alphabet without creating a string of the entire alphabet beforehand."
   ]
  },
  {
   "cell_type": "code",
   "execution_count": 4,
   "metadata": {},
   "outputs": [
    {
     "name": "stdout",
     "output_type": "stream",
     "text": [
      "A\n",
      "B\n",
      "C\n",
      "D\n",
      "E\n",
      "F\n",
      "G\n",
      "H\n",
      "I\n",
      "J\n",
      "K\n",
      "L\n",
      "M\n",
      "N\n",
      "O\n",
      "P\n",
      "Q\n",
      "R\n",
      "S\n",
      "T\n",
      "U\n",
      "V\n",
      "W\n",
      "X\n",
      "Y\n",
      "Z\n"
     ]
    }
   ],
   "source": [
    "#example with a class\n",
    "\n",
    "class Alphabet:\n",
    "    START, STOP = 65, 91\n",
    "    def __init__(self):\n",
    "        self.i = Alphabet.START\n",
    "        \n",
    "    def __iter__(self):\n",
    "        return self\n",
    "    \n",
    "    def __next__(self):\n",
    "        ch = chr(self.i)\n",
    "        self.i += 1\n",
    "        if self.i > Alphabet.STOP:\n",
    "            raise StopIteration\n",
    "        return ch\n",
    "    \n",
    "for letter in Alphabet():\n",
    "    print(letter)"
   ]
  },
  {
   "cell_type": "code",
   "execution_count": null,
   "metadata": {},
   "outputs": [],
   "source": [
    "#exmaple with a generator\n",
    "\n",
    "def alphabet():\n",
    "    START, STOP = 65, 91\n",
    "    i = START\n",
    "    while i < STOP:\n",
    "        yield chr(i)\n",
    "        i += 1\n",
    "    # or use range, of course\n",
    "\n",
    "for letter in alphabet():\n",
    "    print(letter)\n",
    "\n",
    "#infinite generator\n",
    "\n",
    "def infinite_abc():\n",
    "    START, STOP = 65,67\n",
    "    i = START\n",
    "    while True:\n",
    "        if i > STOP:\n",
    "            i = START\n",
    "        yield chr(i)\n",
    "        i += 1"
   ]
  },
  {
   "cell_type": "code",
   "execution_count": null,
   "metadata": {},
   "outputs": [],
   "source": [
    "import sys\n",
    "lc = [i ** 2 for i in range(10000)]\n",
    "ge = (i ** 2 for i in range(10000))\n",
    "sys.getsizeof(lc)\n",
    "sys.getsizeof(ge)\n",
    "\n"
   ]
  },
  {
   "cell_type": "code",
   "execution_count": null,
   "metadata": {},
   "outputs": [],
   "source": [
    "%%html\n",
    "<style type=\"text/css\">\n",
    "\n",
    ".reveal table {\n",
    "    font-size: 1em;\n",
    "}\n",
    "\n",
    ".reveal div.highlight {\n",
    "    margin: 0; \n",
    "}\n",
    "\n",
    ".reveal div.highlight>pre {\n",
    "    margin: 0; \n",
    "    width: 100%;\n",
    "    font-size: var(--jp-code-font-size);\n",
    "}\n",
    "\n",
    ".reveal div.jp-OutputArea-output>pre {\n",
    "    margin: 0; \n",
    "    width: 90%;\n",
    "    font-size: var(--jp-code-font-size);\n",
    "    box-shadow: none;\n",
    "}\n",
    "\n",
    "</style>\n"
   ]
  }
 ],
 "metadata": {
  "kernelspec": {
   "display_name": "Python 3",
   "language": "python",
   "name": "python3"
  },
  "language_info": {
   "codemirror_mode": {
    "name": "ipython",
    "version": 3
   },
   "file_extension": ".py",
   "mimetype": "text/x-python",
   "name": "python",
   "nbconvert_exporter": "python",
   "pygments_lexer": "ipython3",
   "version": "3.10.6"
  }
 },
 "nbformat": 4,
 "nbformat_minor": 2
}
