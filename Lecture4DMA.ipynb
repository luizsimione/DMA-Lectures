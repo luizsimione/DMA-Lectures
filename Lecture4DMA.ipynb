{
 "cells": [
  {
   "cell_type": "markdown",
   "metadata": {},
   "source": [
    "Generators\n",
    "A generator is a function that can be paused and resumed while still maintaining state between these stops and starts.\n",
    "\n",
    "Pausing and Resuming Functions?\n",
    "Typically, when you call a function, you lose that function's local variables after it reaches the return statement.\n",
    "\n",
    "Generators allow you to return a value\n",
    "suspend execution of the function\n",
    "then resume it later with all of the locals still intact!\n",
    "\n",
    "Creating a Generator\n",
    "\n",
    "*make a function that has the keyword 'yield' in it\n",
    "*yield is like return in that gives the value immediately to the right of it\n",
    "*however instead of stopping the functioin completely and discarding the locals\n",
    "*it temporarily suspends the execution of the function so that it can be continued later\n",
    "\n",
    "Generators and Iterators\n",
    "From the docs:\n",
    "When you call a generator function, it doesn’t return a single value; instead it returns a generator object that supports the iterator protocol.\n",
    "So... a generator object is an iterator; it implements both __iter__ and __next__ (but an iterator is not always necessarily a generator)\n",
    "\n",
    "Generators and Iterators Continued\n",
    "So, when you call a generator function, you immediately get a generator object back, but the function body itself is not yet executed. The generator object returned behaves like an iterator:\n",
    "\n",
    "it has a __next__ method\n",
    "...so that means you can pass the generator object into the next function, similar to iterable objects returning iterators\n",
    "using next controls the function's execution; it starts or resumes the function until yield is encountered\n",
    "at which point a value is returned and execution is temporarily suspended."
   ]
  },
  {
   "cell_type": "code",
   "execution_count": null,
   "metadata": {
    "vscode": {
     "languageId": "plaintext"
    }
   },
   "outputs": [],
   "source": [
    "#Generator function example\n",
    "\n",
    "def f():\n",
    "    print('print 1')\n",
    "    yield 'return 1'\n",
    "    print('print 2')\n",
    "    yield 'return 2'\n",
    "    print('print 3')\n",
    "    yield 'return 3'\n",
    "\n"
   ]
  }
 ],
 "metadata": {
  "language_info": {
   "name": "python"
  }
 },
 "nbformat": 4,
 "nbformat_minor": 2
}
