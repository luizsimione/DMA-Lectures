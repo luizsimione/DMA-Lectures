{
 "cells": [
  {
   "cell_type": "code",
   "execution_count": null,
   "metadata": {},
   "outputs": [],
   "source": [
    "import pandas as pd\n",
    "import matplotlib.pyplot as plt"
   ]
  },
  {
   "cell_type": "code",
   "execution_count": null,
   "metadata": {},
   "outputs": [],
   "source": [
    "df = pd.read_csv('./temp.txt', skiprows=7, sep='\\\\s+', na_values=['***','****'])\n",
    "df= df[df]['Year'].str.isnumeric() \n",
    "df =df.loc[:,'Year':\"Dec\"]\n",
    "df.set_index(\"Year\")\n",
    "df = df.apply(pd.to_numeric).info\n",
    "df.plot()"
   ]
  }
 ],
 "metadata": {
  "kernelspec": {
   "display_name": "base",
   "language": "python",
   "name": "python3"
  },
  "language_info": {
   "name": "python",
   "version": "3.12.7"
  }
 },
 "nbformat": 4,
 "nbformat_minor": 2
}
