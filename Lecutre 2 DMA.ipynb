{
 "cells": [
  {
   "cell_type": "markdown",
   "metadata": {},
   "source": [
    "Agenda\n",
    "Finish up tuple unpacking and multiple assignement\n",
    "converting from one sequence to another\n",
    "    list\n",
    "    split and join\n",
    "mapping types\n",
    "    dict\n",
    "    counter\n",
    "    defaultdict\n",
    "functions\n",
    "    arbitary number of args, defualt values of parameters\n",
    "    functions as objects\n",
    "        back to lists4,"
   ]
  },
  {
   "cell_type": "code",
   "execution_count": 2,
   "metadata": {},
   "outputs": [],
   "source": [
    "var1, var2 = \"hello\", \"hi\""
   ]
  },
  {
   "cell_type": "code",
   "execution_count": 4,
   "metadata": {},
   "outputs": [
    {
     "name": "stdout",
     "output_type": "stream",
     "text": [
      "<class 'list'> [1, 2]\n",
      "<class 'list'> [3, 4]\n",
      "<class 'list'> [5, 6]\n"
     ]
    }
   ],
   "source": [
    "points = [1,2],[3,4],[5,6]\n",
    "for p in points:\n",
    "    print(type(p),p)\n",
    "    "
   ]
  },
  {
   "cell_type": "code",
   "execution_count": null,
   "metadata": {},
   "outputs": [],
   "source": [
    "#splitand join are string methods, so call onn sting\n",
    "#animals,join('-') will not work"
   ]
  },
  {
   "cell_type": "markdown",
   "metadata": {},
   "source": [
    "mapping\n",
    "\n",
    "*keys map to values\n",
    "*examples of mapping types\n",
    "    dict\n",
    "    counter\n",
    "    defaultdict\n",
    "syntax {}\n",
    "    keys: any immutable types typles strings ints floats\n",
    "    values and value including other compound types lists dictionaries etc\n"
   ]
  },
  {
   "cell_type": "code",
   "execution_count": 6,
   "metadata": {},
   "outputs": [
    {
     "ename": "KeyError",
     "evalue": "'middle'",
     "output_type": "error",
     "traceback": [
      "\u001b[0;31m---------------------------------------------------------------------------\u001b[0m",
      "\u001b[0;31mKeyError\u001b[0m                                  Traceback (most recent call last)",
      "Cell \u001b[0;32mIn[6], line 4\u001b[0m\n\u001b[1;32m      1\u001b[0m person \u001b[38;5;241m=\u001b[39m {\u001b[38;5;124m'\u001b[39m\u001b[38;5;124mfirst\u001b[39m\u001b[38;5;124m'\u001b[39m: \u001b[38;5;124m'\u001b[39m\u001b[38;5;124mjoe\u001b[39m\u001b[38;5;124m'\u001b[39m, \u001b[38;5;124m\"\u001b[39m\u001b[38;5;124mlast\u001b[39m\u001b[38;5;124m\"\u001b[39m: \u001b[38;5;124m'\u001b[39m\u001b[38;5;124msmith\u001b[39m\u001b[38;5;124m'\u001b[39m}\n\u001b[1;32m      2\u001b[0m person[\u001b[38;5;124m'\u001b[39m\u001b[38;5;124mfirst\u001b[39m\u001b[38;5;124m'\u001b[39m]\n\u001b[0;32m----> 4\u001b[0m person[\u001b[38;5;124m'\u001b[39m\u001b[38;5;124mmiddle\u001b[39m\u001b[38;5;124m'\u001b[39m]\n",
      "\u001b[0;31mKeyError\u001b[0m: 'middle'"
     ]
    }
   ],
   "source": [
    "person = {'first': 'joe', \"last\": 'smith'}\n",
    "person['first']\n",
    "\n",
    "person['middle']\n",
    "# no exception thrown using .get\n",
    "\n"
   ]
  },
  {
   "cell_type": "code",
   "execution_count": 7,
   "metadata": {},
   "outputs": [
    {
     "data": {
      "text/plain": [
       "False"
      ]
     },
     "execution_count": 7,
     "metadata": {},
     "output_type": "execute_result"
    }
   ],
   "source": [
    "\"foo\" in person"
   ]
  },
  {
   "cell_type": "code",
   "execution_count": 8,
   "metadata": {},
   "outputs": [],
   "source": [
    "from collections import defaultdict"
   ]
  },
  {
   "cell_type": "code",
   "execution_count": 10,
   "metadata": {},
   "outputs": [
    {
     "name": "stdout",
     "output_type": "stream",
     "text": [
      "None\n"
     ]
    }
   ],
   "source": [
    "def f():\n",
    "    pass\n",
    "\n",
    "result = f()\n",
    "print(result)"
   ]
  },
  {
   "cell_type": "code",
   "execution_count": 11,
   "metadata": {},
   "outputs": [
    {
     "data": {
      "text/plain": [
       "3"
      ]
     },
     "execution_count": 11,
     "metadata": {},
     "output_type": "execute_result"
    }
   ],
   "source": [
    "def add(a,b):\n",
    "    return a + b\n",
    "add(1,2)\n",
    "\n"
   ]
  },
  {
   "cell_type": "code",
   "execution_count": 12,
   "metadata": {},
   "outputs": [
    {
     "name": "stdout",
     "output_type": "stream",
     "text": [
      "<class 'tuple'> (1, 2, 3)\n"
     ]
    }
   ],
   "source": [
    "def add(*args):\n",
    "    print(type(args), args)\n",
    "\n",
    "add(1,2,3)"
   ]
  },
  {
   "cell_type": "code",
   "execution_count": null,
   "metadata": {},
   "outputs": [],
   "source": [
    "li = [\"10\", 2]\n",
    "int(li[0], li[0])\n",
    "int(*li)\n",
    "#* arbitary number of arguments\n"
   ]
  },
  {
   "cell_type": "code",
   "execution_count": 15,
   "metadata": {},
   "outputs": [
    {
     "name": "stdout",
     "output_type": "stream",
     "text": [
      "joe , hello!\n",
      "<class 'dict'> {'x': 1, 'y': 2}\n"
     ]
    }
   ],
   "source": [
    "def greet(greeting, name ='hi'):\n",
    "    print(f'{greeting} , {name}!')\n",
    "\n",
    "greet('joe', 'hello')\n",
    "\n",
    "def addToList(item, li=[]):\n",
    "    li.append(item)\n",
    "    return li\n",
    "\n",
    "addToList('cat', ['ant', 'bat'])\n",
    "\n",
    "def f(**kwargs):\n",
    "    print(type(kwargs), kwargs)\n",
    "\n",
    "f(x=1, y=2)"
   ]
  },
  {
   "cell_type": "code",
   "execution_count": 17,
   "metadata": {},
   "outputs": [
    {
     "name": "stdout",
     "output_type": "stream",
     "text": [
      "a=1 b=2, args=(3, 4, 5), kwargs={'x': 6, 'y': 7}\n"
     ]
    }
   ],
   "source": [
    "def f(a, b, *args, **kwargs):\n",
    "    print(f'{a=} {b=}, {args=}, {kwargs=}')\n",
    "\n",
    "f(1,2,3,4,5, x=6, y=7)\n"
   ]
  },
  {
   "cell_type": "code",
   "execution_count": 18,
   "metadata": {},
   "outputs": [
    {
     "data": {
      "text/plain": [
       "10"
      ]
     },
     "execution_count": 18,
     "metadata": {},
     "output_type": "execute_result"
    }
   ],
   "source": [
    "#lambda arg: ret val\n",
    "inc = lambda n: n + 1\n",
    "inc(9)"
   ]
  },
  {
   "cell_type": "code",
   "execution_count": 21,
   "metadata": {},
   "outputs": [
    {
     "name": "stdout",
     "output_type": "stream",
     "text": [
      "99\n",
      "return 100\n"
     ]
    },
    {
     "data": {
      "text/plain": [
       "100"
      ]
     },
     "execution_count": 21,
     "metadata": {},
     "output_type": "execute_result"
    }
   ],
   "source": [
    "# decorator\n",
    "#a function or a class that takes another function as an argument and returns a new function\n",
    "# the new fucntion usually behaves like the older passed in function\n",
    "# but with some added behaviour / feeatures\n",
    "#python has a special suyntax for decorators that allow u to add behaviours / featuress to newly declared functions immediately\n",
    "# the syntax is @ symbol followed by the name of the decorator function\n",
    "inc = lambda n: n + 1\n",
    "inc(9)\n",
    "\n",
    "def addDebug(olderDef):\n",
    "    def newDef(arg):\n",
    "        print (arg)\n",
    "        ret = olderDef(arg)\n",
    "        print('return', ret)\n",
    "        return ret\n",
    "    return newDef\n",
    "debuggedInc = addDebug(inc)\n",
    "debuggedInc(99)\n",
    "\n",
    "def product(n,m):\n",
    "    return n*m\n"
   ]
  },
  {
   "cell_type": "code",
   "execution_count": 23,
   "metadata": {},
   "outputs": [
    {
     "data": {
      "text/plain": [
       "0.07593323299079202"
      ]
     },
     "execution_count": 23,
     "metadata": {},
     "output_type": "execute_result"
    }
   ],
   "source": [
    "from timeit import default_timer as timer\n",
    "\n",
    "start = timer()\n",
    "for i in range(1000000):\n",
    "    i * i\n",
    "end = timer()\n",
    "end-start"
   ]
  },
  {
   "cell_type": "code",
   "execution_count": 24,
   "metadata": {},
   "outputs": [],
   "source": [
    "charts = {'juice wrld':6, \"drake\":1 ,\"cardi b\": 3}\n",
    "charts.get('dne')"
   ]
  },
  {
   "cell_type": "code",
   "execution_count": 25,
   "metadata": {},
   "outputs": [
    {
     "name": "stdout",
     "output_type": "stream",
     "text": [
      "{'kendrick lamar'}\n"
     ]
    }
   ],
   "source": [
    "set1 = {'kendrick lamar', 'justin bieber'}\n",
    "set2 = {'juice wrld', 'kendrick lamar', 'cardi b'}\n",
    "\n",
    "newSet = set1 & set2\n",
    "print(newSet)"
   ]
  },
  {
   "cell_type": "code",
   "execution_count": 28,
   "metadata": {},
   "outputs": [
    {
     "name": "stdout",
     "output_type": "stream",
     "text": [
      "walrus\n",
      "whale\n",
      "wombat\n",
      "668\n",
      "wombat\n"
     ]
    }
   ],
   "source": [
    "s = ''\n",
    "for i, val in enumerate(['walrus', 'whale', 'wombat']):\n",
    "    s += str(i + len(val))\n",
    "    print(val)\n",
    "\n",
    "print(s)\n",
    "print(val)"
   ]
  },
  {
   "cell_type": "code",
   "execution_count": 31,
   "metadata": {},
   "outputs": [
    {
     "ename": "TypeError",
     "evalue": "f() takes 1 positional argument but 2 were given",
     "output_type": "error",
     "traceback": [
      "\u001b[0;31m---------------------------------------------------------------------------\u001b[0m",
      "\u001b[0;31mTypeError\u001b[0m                                 Traceback (most recent call last)",
      "Cell \u001b[0;32mIn[31], line 5\u001b[0m\n\u001b[1;32m      2\u001b[0m     \u001b[38;5;28mprint\u001b[39m(\u001b[38;5;28mtype\u001b[39m(kwargs))\n\u001b[1;32m      3\u001b[0m     \u001b[38;5;28;01mreturn\u001b[39;00m kwargs\n\u001b[0;32m----> 5\u001b[0m f(\u001b[38;5;124m'\u001b[39m\u001b[38;5;124ma\u001b[39m\u001b[38;5;124m'\u001b[39m, \u001b[38;5;241m10\u001b[39m)\n",
      "\u001b[0;31mTypeError\u001b[0m: f() takes 1 positional argument but 2 were given"
     ]
    }
   ],
   "source": [
    "def f(a, **kwargs):\n",
    "    print(type(kwargs))\n",
    "    return kwargs\n",
    "\n",
    "f('a', 10)\n"
   ]
  }
 ],
 "metadata": {
  "kernelspec": {
   "display_name": "base",
   "language": "python",
   "name": "python3"
  },
  "language_info": {
   "codemirror_mode": {
    "name": "ipython",
    "version": 3
   },
   "file_extension": ".py",
   "mimetype": "text/x-python",
   "name": "python",
   "nbconvert_exporter": "python",
   "pygments_lexer": "ipython3",
   "version": "3.12.7"
  }
 },
 "nbformat": 4,
 "nbformat_minor": 2
}
